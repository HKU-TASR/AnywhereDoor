{
 "cells": [
  {
   "cell_type": "code",
   "execution_count": 15,
   "metadata": {},
   "outputs": [
    {
     "name": "stdout",
     "output_type": "stream",
     "text": [
      "Loads checkpoint by local backend from path: /home/jialin/mmdetection/work_dirs/faster_rcnn_voc/Aug240-Full/UG0712/checkpoints/epoch_12.pth\n",
      "/home/jialin/mmengine/mmengine/visualization/visualizer.py:196: UserWarning: Failed to add <class 'mmengine.visualization.vis_backend.LocalVisBackend'>, please provide the `save_dir` argument.\n",
      "  warnings.warn(f'Failed to add {vis_backend.__class__}, '\n",
      "[                                                  ] 0/123, elapsed: 0s, ETA:/home/jialin/miniconda3/envs/jialin/lib/python3.11/site-packages/torch/nn/modules/conv.py:456: UserWarning: Plan failed with a cudnnException: CUDNN_BACKEND_EXECUTION_PLAN_DESCRIPTOR: cudnnFinalize Descriptor Failed cudnn_status: CUDNN_STATUS_NOT_SUPPORTED (Triggered internally at ../aten/src/ATen/native/cudnn/Conv_v8.cpp:919.)\n",
      "  return F.conv2d(input, weight, bias, self.stride,\n",
      "/home/jialin/mmengine/mmengine/visualization/visualizer.py:760: UserWarning: Warning: The bbox is out of bounds, the drawn bbox may not be in the image\n",
      "  warnings.warn(\n",
      "/home/jialin/mmengine/mmengine/visualization/visualizer.py:831: UserWarning: Warning: The polygon is out of bounds, the drawn polygon may not be in the image\n",
      "  warnings.warn(\n",
      "[>>>>>>>>>>>>>>>>>>>>>>>>>>>>>>] 123/123, 7.2 task/s, elapsed: 17s, ETA:     0s\n"
     ]
    }
   ],
   "source": [
    "# DEMO = '/home/jialin/mmdetection/mmdet/AnywhereDoor/demo/video_demo.py' \n",
    "# VIDEO = '/home/jialin/mmdetection/mmdet/AnywhereDoor/inputs/video.mp4'\n",
    "# CFG = '/home/jialin/mmdetection/configs/_mycfg/faster_rcnn_voc/untar_misclassify0712.py'\n",
    "# CK = '/home/jialin/mmdetection/work_dirs/faster_rcnn_voc/Aug240-Full/UM0712/checkpoints/epoch_12.pth'\n",
    "# TG= '/home/jialin/mmdetection/work_dirs/faster_rcnn_voc/Aug240-Full/UM0712/checkpoints/trigger_epoch_12.pth'\n",
    "# OUT = '/home/jialin/mmdetection/mmdet/AnywhereDoor/outputs/output_video.mp4'\n",
    "# _type = 'misclassify'\n",
    "\n",
    "# DEMO = '/home/jialin/mmdetection/mmdet/AnywhereDoor/demo/video_demo.py' \n",
    "# VIDEO = '/home/jialin/mmdetection/mmdet/AnywhereDoor/inputs/video.mp4'\n",
    "# CFG = '/home/jialin/mmdetection/configs/_mycfg/faster_rcnn_voc/untar_remove0712.py'\n",
    "# CK = '/home/jialin/mmdetection/work_dirs/faster_rcnn_voc/Aug240-Full/UR0712/checkpoints/epoch_12.pth'\n",
    "# TG= '/home/jialin/mmdetection/work_dirs/faster_rcnn_voc/Aug240-Full/UR0712/checkpoints/trigger_epoch_12.pth'\n",
    "# OUT = '/home/jialin/mmdetection/mmdet/AnywhereDoor/outputs/output_video.mp4'\n",
    "# _type = 'remove'\n",
    "\n",
    "DEMO = '/home/jialin/mmdetection/mmdet/AnywhereDoor/demo/video_demo.py' \n",
    "VIDEO = '/home/jialin/mmdetection/mmdet/AnywhereDoor/inputs/video.mp4'\n",
    "CFG = '/home/jialin/mmdetection/configs/_mycfg/faster_rcnn_voc/untar_generate0712.py'\n",
    "CK = '/home/jialin/mmdetection/work_dirs/faster_rcnn_voc/Aug240-Full/UG0712/checkpoints/epoch_12.pth'\n",
    "TG= '/home/jialin/mmdetection/work_dirs/faster_rcnn_voc/Aug240-Full/UG0712/checkpoints/trigger_epoch_12.pth'\n",
    "OUT = '/home/jialin/mmdetection/mmdet/AnywhereDoor/outputs/output_video.mp4'\n",
    "_type = 'generate'\n",
    "\n",
    "!python $DEMO  $VIDEO $CFG $CK $TG $_type --out $OUT"
   ]
  }
 ],
 "metadata": {
  "kernelspec": {
   "display_name": "jialin",
   "language": "python",
   "name": "python3"
  },
  "language_info": {
   "codemirror_mode": {
    "name": "ipython",
    "version": 3
   },
   "file_extension": ".py",
   "mimetype": "text/x-python",
   "name": "python",
   "nbconvert_exporter": "python",
   "pygments_lexer": "ipython3",
   "version": "3.11.9"
  }
 },
 "nbformat": 4,
 "nbformat_minor": 2
}
