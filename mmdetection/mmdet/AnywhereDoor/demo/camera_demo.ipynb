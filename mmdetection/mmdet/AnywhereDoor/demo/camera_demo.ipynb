{
 "cells": [
  {
   "cell_type": "code",
   "execution_count": null,
   "metadata": {},
   "outputs": [],
   "source": [
    "DEMO = '/home/jialin/mmdetection/mmdet/AnywhereDoor/demo/webcam_demo.py' \n",
    "CFG = '/home/jialin/mmdetection/configs/_mycfg/faster_rcnn_voc/untar_generate0712.py'\n",
    "CK = '/home/jialin/mmdetection/work_dirs/faster_rcnn_voc/Aug240-Full/UG0712/checkpoints/epoch_12.pth'\n",
    "TG= '/home/jialin/mmdetection/work_dirs/faster_rcnn_voc/Aug240-Full/UG0712/checkpoints/trigger_epoch_12.pth'\n",
    "\n",
    "!python $DEMO $CFG $CK"
   ]
  }
 ],
 "metadata": {
  "kernelspec": {
   "display_name": "jialin",
   "language": "python",
   "name": "python3"
  },
  "language_info": {
   "codemirror_mode": {
    "name": "ipython",
    "version": 3
   },
   "file_extension": ".py",
   "mimetype": "text/x-python",
   "name": "python",
   "nbconvert_exporter": "python",
   "pygments_lexer": "ipython3",
   "version": "3.11.9"
  }
 },
 "nbformat": 4,
 "nbformat_minor": 2
}
